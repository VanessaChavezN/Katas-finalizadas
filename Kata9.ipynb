{
 "cells": [
  {
   "cell_type": "code",
   "execution_count": null,
   "metadata": {},
   "outputs": [],
   "source": [
    "def combustible_nave(tanque1, tanque2, tanque3):\n",
    "    combustible_total_promedio= (tanque1 + tanque2 + tanque3)/ 3\n",
    "    return f\"Reporte de combustible: Promedio de combustible: {combustible_total_promedio}% Tanque 1:{tanque1}% Tanque 2: {tanque2}% Tanque 3: {tanque3}% \n",
    "    combustible_nave(20, 30, 50)"
   ]
  },
  {
   "cell_type": "code",
   "execution_count": null,
   "metadata": {},
   "outputs": [],
   "source": [
    "def promedio (*arg):\n",
    "    #sumamos los valores ingresados\n",
    "    total= sum(arg)\n",
    "    #obtenemos la cantidad de datos ingresados\n",
    "    numero_d_tanques= len(arg)\n",
    "    #realizamos el promedio\n",
    "    return total/numero_d_tanques"
   ]
  },
  {
   "cell_type": "code",
   "execution_count": null,
   "metadata": {},
   "outputs": [],
   "source": [
    "promedio(15, 30, 50)"
   ]
  },
  {
   "cell_type": "code",
   "execution_count": null,
   "metadata": {},
   "outputs": [],
   "source": [
    "def combustible_nave(tanque1, tanque2, tanque3):\n",
    "    return f\"\"\"\n",
    "    Reporte de combustible: \n",
    "    Promedio de combustible: {promedio(tanque1, tanque2, tanque3)}%\n",
    "    Tanque 1:{tanque1}% \n",
    "    Tanque 2: {tanque2}% \n",
    "    Tanque 3: {tanque3}% \"\"\""
   ]
  },
  {
   "cell_type": "code",
   "execution_count": null,
   "metadata": {},
   "outputs": [],
   "source": [
    "print(combustible_nave(15, 30, 50))"
   ]
  },
  {
   "cell_type": "code",
   "execution_count": null,
   "metadata": {},
   "outputs": [],
   "source": [
    "def reporte_de_mision(t_pre_lanzamiento, tiempo_de_vuelo, destino, tanque_secundario, tanque_principal):\n",
    "    return f\"\"\"\n",
    "    Misión a {destino}\n",
    "    Tiempo Total de Vuelo:: {t_pre_lanzamiento + tiempo_de_vuelo} minutos\n",
    "    Combustible disponible: {tanque_secundario + tanque_principal} litros\n",
    "    \"\"\""
   ]
  },
  {
   "cell_type": "code",
   "execution_count": null,
   "metadata": {},
   "outputs": [],
   "source": [
    "print(reporte_de_mision(45, 120, \"Luna\", 20000, 1300000))"
   ]
  },
  {
   "cell_type": "code",
   "execution_count": null,
   "metadata": {},
   "outputs": [],
   "source": [
    "def reporte_de_mision(destino,*args, **kwargs):\n",
    "    r_principal= f\"\"\"\n",
    "    Misión a {destino}\n",
    "    Tiempo Total de Vuelo:: {sum(args)} minutos\n",
    "    Combustible disponible: {sum(kwargs.values())} litros\n",
    "    \"\"\"\n",
    "\n",
    "    for tipo_tanque, litros in kwargs.items():\n",
    "        r_principal += f\"Tanque {tipo_tanque}: {litros} litros sobrantes\\n    \"\n",
    "    return r_principal"
   ]
  },
  {
   "cell_type": "code",
   "execution_count": null,
   "metadata": {},
   "outputs": [],
   "source": [
    "print(reporte_de_mision('Luna', 45, 70, 63,50, 56, 9, 30, main= 30256, secondary= 58989, ))\n"
   ]
  }
 ],
 "metadata": {
  "interpreter": {
   "hash": "f9c445caf39b34fd95e5033903383787e751c4173b35933c82e200aad91e53e2"
  },
  "kernelspec": {
   "display_name": "Python 3.10.2 64-bit",
   "language": "python",
   "name": "python3"
  },
  "language_info": {
   "codemirror_mode": {
    "name": "ipython",
    "version": 3
   },
   "file_extension": ".py",
   "mimetype": "text/x-python",
   "name": "python",
   "nbconvert_exporter": "python",
   "pygments_lexer": "ipython3",
   "version": "3.10.2"
  },
  "orig_nbformat": 4
 },
 "nbformat": 4,
 "nbformat_minor": 2
}
