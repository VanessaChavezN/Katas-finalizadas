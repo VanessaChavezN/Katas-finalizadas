{
 "cells": [
  {
   "cell_type": "code",
   "execution_count": 4,
   "metadata": {},
   "outputs": [
    {
     "name": "stdout",
     "output_type": "stream",
     "text": [
      "628949330.0\n",
      "390577533.93\n"
     ]
    }
   ],
   "source": [
    "Tierra_distancia=149597870\n",
    "Jupiter_distancia=778547200\n",
    "\n",
    "kmdistancia=abs(Tierra_distancia-Jupiter_distancia) #Distancia absoluta\n",
    "print(float(kmdistancia))\n",
    "\n",
    "midistancia=kmdistancia*0.621\n",
    "print(float(midistancia))"
   ]
  },
  {
   "cell_type": "code",
   "execution_count": 5,
   "metadata": {},
   "outputs": [
    {
     "name": "stdout",
     "output_type": "stream",
     "text": [
      "La distancia entre los dos planetas es de 300.0 KM\n",
      "La distancia entre los dos planetas es de 186.3 Millas\n"
     ]
    }
   ],
   "source": [
    "planeta1= input(\"Insertar distancia entre el planeta 1 y el Sol en KM\")\n",
    "planeta2= input(\"Insertar la distancia del planeta 2 al Sol en KM\")\n",
    "\n",
    "distanciaplanetas= abs(float(planeta1) - float(planeta2))\n",
    "midistancia= abs(float(distanciaplanetas) * 0.621)\n",
    "\n",
    "print(\"La distancia entre los dos planetas es de \" + str(distanciaplanetas) + \" KM\")\n",
    "print(\"La distancia entre los dos planetas es de \"+ str(midistancia) + \" Millas\")"
   ]
  }
 ],
 "metadata": {
  "interpreter": {
   "hash": "f9c445caf39b34fd95e5033903383787e751c4173b35933c82e200aad91e53e2"
  },
  "kernelspec": {
   "display_name": "Python 3.10.2 64-bit",
   "language": "python",
   "name": "python3"
  },
  "language_info": {
   "codemirror_mode": {
    "name": "ipython",
    "version": 3
   },
   "file_extension": ".py",
   "mimetype": "text/x-python",
   "name": "python",
   "nbconvert_exporter": "python",
   "pygments_lexer": "ipython3",
   "version": "3.10.2"
  },
  "orig_nbformat": 4
 },
 "nbformat": 4,
 "nbformat_minor": 2
}
