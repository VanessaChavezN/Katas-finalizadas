{
 "cells": [
  {
   "cell_type": "code",
   "execution_count": null,
   "metadata": {},
   "outputs": [],
   "source": [
    "planet= {\n",
    "    'name' : 'Marte',\n",
    "    'moons' : 2\n",
    "}\n",
    "\n",
    "planet['diameter (km)'] = {\n",
    "    'polar': 6752,\n",
    "    'equatorial': 6972\n",
    "}\n",
    "print(f\"El planeta {planet['name']} tiene {planet['moons']} lunas.\")\n",
    "print(f\"{planet['name']} tiene un diametro polar de: {planet['diameter (km)']['polar']} Km\")"
   ]
  },
  {
   "cell_type": "code",
   "execution_count": null,
   "metadata": {},
   "outputs": [],
   "source": [
    "planet_moons = {\n",
    "    'mercury': 0,\n",
    "    'venus': 0,\n",
    "    'earth': 1,\n",
    "    'mars': 2,\n",
    "    'jupiter': 79,\n",
    "    'saturn': 82,\n",
    "    'uranus': 27,\n",
    "    'neptune': 14,\n",
    "    'pluto': 5,\n",
    "    'haumea': 2,\n",
    "    'makemake': 1,\n",
    "    'eris': 1\n",
    "}\n",
    "moons= planet_moons.values()\n",
    "planets=  len(planet_moons.keys())\n",
    "total_moons = 0\n",
    "\n",
    "for moons in moons : \n",
    "    total_moons= total_moons + moons\n",
    "\n",
    "promedio= total_moons/planets\n",
    "\n",
    "print(promedio)"
   ]
  }
 ],
 "metadata": {
  "interpreter": {
   "hash": "f9c445caf39b34fd95e5033903383787e751c4173b35933c82e200aad91e53e2"
  },
  "kernelspec": {
   "display_name": "Python 3.10.2 64-bit",
   "language": "python",
   "name": "python3"
  },
  "language_info": {
   "name": "python",
   "version": "3.10.2"
  },
  "orig_nbformat": 4
 },
 "nbformat": 4,
 "nbformat_minor": 2
}
