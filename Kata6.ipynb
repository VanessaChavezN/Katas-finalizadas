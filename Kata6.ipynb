{
 "cells": [
  {
   "cell_type": "code",
   "execution_count": 1,
   "metadata": {},
   "outputs": [
    {
     "name": "stdout",
     "output_type": "stream",
     "text": [
      "['Mercurio', 'Venus', 'Tierra', 'Marte', 'Jupiter', 'Saturno', 'Urano', 'Neptuno']\n",
      "Hay 8 planetas en nuestro sistema solar\n",
      "Pluton es el ultimo planeta\n"
     ]
    }
   ],
   "source": [
    "# Creamos la lista planets y la mostramos\n",
    "planetas=['Mercurio', 'Venus', 'Tierra', 'Marte', 'Jupiter', 'Saturno', 'Urano', 'Neptuno']\n",
    "print(planetas)\n",
    "print(\"Hay\", len(planetas), \"planetas en nuestro sistema solar\")\n",
    "\n",
    "# Agregamos a Plutón y mostramos el último elemento\n",
    "planetas.append(\"Pluton\")\n",
    "print(planetas[-1], \"es el ultimo planeta\")"
   ]
  },
  {
   "cell_type": "code",
   "execution_count": 2,
   "metadata": {},
   "outputs": [
    {
     "name": "stdout",
     "output_type": "stream",
     "text": [
      "['Mercurio', 'Venus', 'Tierra', 'Marte', 'Jupiter', 'Saturno', 'Urano', 'Neptuno']\n",
      "Marte\n",
      "Marte\n",
      "Tomando de referencia al Sol, aqui se muestran los planetas que se encuentran ANTES de Marte\n",
      "['Mercurio', 'Venus', 'Tierra']\n",
      "Tomando de referencia al Sol, aqui se muestran los planetas que se encuentran DESPUES de Marte\n",
      "['Jupiter', 'Saturno', 'Urano', 'Neptuno']\n"
     ]
    }
   ],
   "source": [
    "# Lista de planetas\n",
    "planetas=['Mercurio', 'Venus', 'Tierra', 'Marte', 'Jupiter', 'Saturno', 'Urano', 'Neptuno']\n",
    "print(planetas)\n",
    "# Solicitamos el nombre de un planeta\n",
    "solicitud1=input(\"Introduce el planeta que deseas buscar\")\n",
    "print(solicitud1)\n",
    "solicitud=solicitud1.title()\n",
    "print(solicitud)\n",
    "\n",
    "# Busca el planeta en la lista\n",
    "busqueda= planetas.index(solicitud)\n",
    "\n",
    "# Muestra los planetas más cercanos al sol\n",
    "print(\"Tomando de referencia al Sol, aqui se muestran los planetas que se encuentran ANTES de \"  + solicitud)\n",
    "print(planetas[0:busqueda])\n",
    "\n",
    "# Muestra los planetas más lejanos al sol\n",
    "print(\"Tomando de referencia al Sol, aqui se muestran los planetas que se encuentran DESPUES de \"  + solicitud)\n",
    "print(planetas[busqueda+1:])"
   ]
  }
 ],
 "metadata": {
  "interpreter": {
   "hash": "f9c445caf39b34fd95e5033903383787e751c4173b35933c82e200aad91e53e2"
  },
  "kernelspec": {
   "display_name": "Python 3.10.2 64-bit",
   "language": "python",
   "name": "python3"
  },
  "language_info": {
   "codemirror_mode": {
    "name": "ipython",
    "version": 3
   },
   "file_extension": ".py",
   "mimetype": "text/x-python",
   "name": "python",
   "nbconvert_exporter": "python",
   "pygments_lexer": "ipython3",
   "version": "3.10.2"
  },
  "orig_nbformat": 4
 },
 "nbformat": 4,
 "nbformat_minor": 2
}
