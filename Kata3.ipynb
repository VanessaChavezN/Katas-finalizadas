{
 "cells": [
  {
   "cell_type": "code",
   "execution_count": null,
   "metadata": {},
   "outputs": [],
   "source": [
    "print(\"Se van a comparar la magnitud de tres numeros. Dependiendo de la condicion, se mostrara en texto que se cumplio.\")\n",
    "A=input(\"¿Que valor quiere darle a A? \")\n",
    "B=input(\"¿Que valor quiere darle a B? \")\n",
    "C=input(\"¿Que valor quiere darle a C? \")\n",
    "if A>B:\n",
    "    if B>C:\n",
    "        print(\"A es mayor que B y C\")\n",
    "    else: \n",
    "        print(\"A es mayor que B y menor que C\")  \n",
    "elif A==B:\n",
    "    print(\"A es igual que B\")\n",
    "else:\n",
    "    print(\"A es menor que B\")\n",
    "    asteroidspeed=input(\"¿A que velocidad viaja el asteroide que se aproxima? \")\n",
    "if float(asteroidspeed)>25:\n",
    "        print(\"!CORRAN POR SUS VIDAS! UN ASTEROIDE SE ACERCA A LA TIERRA\")\n",
    "else:\n",
    "        print(\"El dia de hoy no corremos riesgo de morir siendo golpeados por un meteorito\")"
   ]
  }
 ],
 "metadata": {
  "language_info": {
   "name": "python"
  },
  "orig_nbformat": 4
 },
 "nbformat": 4,
 "nbformat_minor": 2
}
