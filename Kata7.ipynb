{
 "cells": [
  {
   "cell_type": "code",
   "execution_count": 1,
   "metadata": {},
   "outputs": [
    {
     "name": "stdout",
     "output_type": "stream",
     "text": [
      "['mercirio', 'mercirio']\n",
      "['mercirio', 'mercirio']\n",
      "['mercirio', 'mercirio', 'marte']\n",
      "['mercirio', 'mercirio', 'marte']\n",
      "['mercirio', 'mercirio', 'marte']\n",
      "['mercirio', 'mercirio', 'marte']\n",
      "['mercirio', 'mercirio', 'marte']\n"
     ]
    }
   ],
   "source": [
    "planeta_entry = \"\"\n",
    "planetas_lista = []\n",
    "\n",
    "planeta_entry = input(\"Escriba un planeta \")\n",
    "planetas_lista = [planeta_entry]\n",
    "\n",
    "while planeta_entry.lower() != 'hecho':\n",
    "    if planeta_entry:\n",
    "        planetas_lista.append(planeta_entry)\n",
    "    planeta_entry = input(\"Ingrese un nuevo planeta, si desea salir del programa, escriba <Hecho> \")\n",
    "    print(planetas_lista)\n",
    "\n"
   ]
  }
 ],
 "metadata": {
  "interpreter": {
   "hash": "f9c445caf39b34fd95e5033903383787e751c4173b35933c82e200aad91e53e2"
  },
  "kernelspec": {
   "display_name": "Python 3.10.2 64-bit",
   "language": "python",
   "name": "python3"
  },
  "language_info": {
   "codemirror_mode": {
    "name": "ipython",
    "version": 3
   },
   "file_extension": ".py",
   "mimetype": "text/x-python",
   "name": "python",
   "nbconvert_exporter": "python",
   "pygments_lexer": "ipython3",
   "version": "3.10.2"
  },
  "orig_nbformat": 4
 },
 "nbformat": 4,
 "nbformat_minor": 2
}
